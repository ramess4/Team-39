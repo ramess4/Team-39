{
  "nbformat": 4,
  "nbformat_minor": 0,
  "metadata": {
    "colab": {
      "name": "Machine Learning Preterm - FINAL Team39.ipynb",
      "provenance": [],
      "collapsed_sections": [],
      "include_colab_link": true
    },
    "kernelspec": {
      "name": "python3",
      "display_name": "Python 3"
    }
  },
  "cells": [
    {
      "cell_type": "markdown",
      "metadata": {
        "id": "view-in-github",
        "colab_type": "text"
      },
      "source": [
        "<a href=\"https://colab.research.google.com/github/ramess4/Team-39/blob/main/Machine_Learning_Preterm_FINAL_Team39.ipynb\" target=\"_parent\"><img src=\"https://colab.research.google.com/assets/colab-badge.svg\" alt=\"Open In Colab\"/></a>"
      ]
    },
    {
      "cell_type": "code",
      "metadata": {
        "id": "agYQ7k0tPYpX"
      },
      "source": [
        "FILE = \"/content/drive/MyDrive/Hackathon/final_data.nat_recoded_mar13.csv\"\n"
      ],
      "execution_count": null,
      "outputs": []
    },
    {
      "cell_type": "markdown",
      "metadata": {
        "id": "28OrgLGURygS"
      },
      "source": [
        "Load in libraries"
      ]
    },
    {
      "cell_type": "code",
      "metadata": {
        "id": "r28WvkfwREfg"
      },
      "source": [
        "import matplotlib.pyplot as plt\n",
        "import pandas as pd\n",
        "import seaborn as sns\n",
        "import imblearn\n",
        "import numpy as np\n",
        "import sklearn\n",
        "import pickle\n",
        "from sklearn.datasets import make_classification\n",
        "from sklearn.linear_model import LogisticRegression\n",
        "from sklearn import metrics\n",
        "from imblearn.under_sampling import RandomUnderSampler\n",
        "from collections import Counter\n",
        "from matplotlib import pyplot\n",
        "from numpy import where"
      ],
      "execution_count": null,
      "outputs": []
    },
    {
      "cell_type": "markdown",
      "metadata": {
        "id": "g_A02RBgR4qe"
      },
      "source": [
        "Read in cleaned version of the National Center for Health Statistics, CDC: Birth Data Files (US, 2018)\n",
        "https://www.cdc.gov/nchs/data_access/vitalstatsonline.htm"
      ]
    },
    {
      "cell_type": "code",
      "metadata": {
        "colab": {
          "base_uri": "https://localhost:8080/"
        },
        "id": "wYGqO1ARTGmn",
        "outputId": "aefdf95d-95f5-4d23-85da-ce5623d7632e"
      },
      "source": [
        "df = pd.read_csv(FILE, index_col=0)\n",
        "print (df.head())"
      ],
      "execution_count": null,
      "outputs": [
        {
          "output_type": "stream",
          "text": [
            "       precare  previs  cig_0  cig_1  ...  sex  combgest  gestrec3  dbwt\n",
            "mager                                 ...                               \n",
            "39           2      60      0      0  ...    1        35         1  2126\n",
            "39           2      60      0      0  ...    1        35         1  2211\n",
            "24           2      60      0      0  ...    0        30         1  1361\n",
            "24           2      60      0      0  ...    0        30         1  1247\n",
            "24           2      60      0      0  ...    0        40         2  3657\n",
            "\n",
            "[5 rows x 27 columns]\n"
          ],
          "name": "stdout"
        },
        {
          "output_type": "stream",
          "text": [
            "/usr/local/lib/python3.7/dist-packages/numpy/lib/arraysetops.py:580: FutureWarning: elementwise comparison failed; returning scalar instead, but in the future will perform elementwise comparison\n",
            "  mask |= (ar1 == a)\n"
          ],
          "name": "stderr"
        }
      ]
    },
    {
      "cell_type": "code",
      "metadata": {
        "colab": {
          "base_uri": "https://localhost:8080/"
        },
        "id": "5joN8LZ7lolm",
        "outputId": "5b5ef0dc-6936-4796-8c68-b7500873e4c7"
      },
      "source": [
        "print(df.columns)"
      ],
      "execution_count": null,
      "outputs": [
        {
          "output_type": "stream",
          "text": [
            "Index(['precare', 'previs', 'cig_0', 'cig_1', 'cig_2', 'cig_3', 'cig_rec',\n",
            "       'm_ht_in', 'bmi', 'pwgt_r', 'wtgain', 'rf_pdiab', 'rf_gdiab',\n",
            "       'rf_phype', 'rf_ghype', 'rf_ehype', 'rf_ppterm', 'rf_cesarn', 'ip_gon',\n",
            "       'ip_syph', 'ip_chlam', 'ip_hepatb', 'ip_hepatc', 'sex', 'combgest',\n",
            "       'gestrec3', 'dbwt'],\n",
            "      dtype='object')\n"
          ],
          "name": "stdout"
        }
      ]
    },
    {
      "cell_type": "code",
      "metadata": {
        "id": "SNFL36V7qGYW"
      },
      "source": [
        "# drop delivery birth weight from dataframe\n",
        "# drop sex from the model - In India it is illegal to provide details on the baby's sex \n",
        "# drop number of cigarettes smoked in each trimester since our app is tailored toward risk stratification at intake\n",
        "# drop previs because trying to asses risk at earliest point \n",
        "# drop precare because users are being introduced to app through midwife - selection bias\n",
        "# drop combgest - redundant variable\n",
        "df = df.drop(columns=['dbwt', 'sex', 'previs', 'precare', 'cig_1', 'cig_2', 'cig_3', 'combgest'])"
      ],
      "execution_count": null,
      "outputs": []
    },
    {
      "cell_type": "code",
      "metadata": {
        "colab": {
          "base_uri": "https://localhost:8080/",
          "height": 470
        },
        "id": "M5BPVgn8qvPX",
        "outputId": "8e80dd7b-86b4-418b-fa71-99d7de7b0c0a"
      },
      "source": [
        "df"
      ],
      "execution_count": null,
      "outputs": [
        {
          "output_type": "execute_result",
          "data": {
            "text/html": [
              "<div>\n",
              "<style scoped>\n",
              "    .dataframe tbody tr th:only-of-type {\n",
              "        vertical-align: middle;\n",
              "    }\n",
              "\n",
              "    .dataframe tbody tr th {\n",
              "        vertical-align: top;\n",
              "    }\n",
              "\n",
              "    .dataframe thead th {\n",
              "        text-align: right;\n",
              "    }\n",
              "</style>\n",
              "<table border=\"1\" class=\"dataframe\">\n",
              "  <thead>\n",
              "    <tr style=\"text-align: right;\">\n",
              "      <th></th>\n",
              "      <th>cig_0</th>\n",
              "      <th>cig_rec</th>\n",
              "      <th>m_ht_in</th>\n",
              "      <th>bmi</th>\n",
              "      <th>pwgt_r</th>\n",
              "      <th>wtgain</th>\n",
              "      <th>rf_pdiab</th>\n",
              "      <th>rf_gdiab</th>\n",
              "      <th>rf_phype</th>\n",
              "      <th>rf_ghype</th>\n",
              "      <th>rf_ehype</th>\n",
              "      <th>rf_ppterm</th>\n",
              "      <th>rf_cesarn</th>\n",
              "      <th>ip_gon</th>\n",
              "      <th>ip_syph</th>\n",
              "      <th>ip_chlam</th>\n",
              "      <th>ip_hepatb</th>\n",
              "      <th>ip_hepatc</th>\n",
              "      <th>gestrec3</th>\n",
              "    </tr>\n",
              "    <tr>\n",
              "      <th>mager</th>\n",
              "      <th></th>\n",
              "      <th></th>\n",
              "      <th></th>\n",
              "      <th></th>\n",
              "      <th></th>\n",
              "      <th></th>\n",
              "      <th></th>\n",
              "      <th></th>\n",
              "      <th></th>\n",
              "      <th></th>\n",
              "      <th></th>\n",
              "      <th></th>\n",
              "      <th></th>\n",
              "      <th></th>\n",
              "      <th></th>\n",
              "      <th></th>\n",
              "      <th></th>\n",
              "      <th></th>\n",
              "      <th></th>\n",
              "    </tr>\n",
              "  </thead>\n",
              "  <tbody>\n",
              "    <tr>\n",
              "      <th>39</th>\n",
              "      <td>0</td>\n",
              "      <td>0</td>\n",
              "      <td>66</td>\n",
              "      <td>21.8</td>\n",
              "      <td>135</td>\n",
              "      <td>40</td>\n",
              "      <td>0</td>\n",
              "      <td>1</td>\n",
              "      <td>0</td>\n",
              "      <td>0</td>\n",
              "      <td>0</td>\n",
              "      <td>0</td>\n",
              "      <td>0</td>\n",
              "      <td>0</td>\n",
              "      <td>0</td>\n",
              "      <td>0</td>\n",
              "      <td>0</td>\n",
              "      <td>0</td>\n",
              "      <td>1</td>\n",
              "    </tr>\n",
              "    <tr>\n",
              "      <th>39</th>\n",
              "      <td>0</td>\n",
              "      <td>0</td>\n",
              "      <td>66</td>\n",
              "      <td>21.8</td>\n",
              "      <td>135</td>\n",
              "      <td>40</td>\n",
              "      <td>0</td>\n",
              "      <td>1</td>\n",
              "      <td>0</td>\n",
              "      <td>0</td>\n",
              "      <td>0</td>\n",
              "      <td>0</td>\n",
              "      <td>0</td>\n",
              "      <td>0</td>\n",
              "      <td>0</td>\n",
              "      <td>0</td>\n",
              "      <td>0</td>\n",
              "      <td>0</td>\n",
              "      <td>1</td>\n",
              "    </tr>\n",
              "    <tr>\n",
              "      <th>24</th>\n",
              "      <td>0</td>\n",
              "      <td>0</td>\n",
              "      <td>61</td>\n",
              "      <td>22.3</td>\n",
              "      <td>118</td>\n",
              "      <td>36</td>\n",
              "      <td>0</td>\n",
              "      <td>0</td>\n",
              "      <td>0</td>\n",
              "      <td>0</td>\n",
              "      <td>0</td>\n",
              "      <td>0</td>\n",
              "      <td>0</td>\n",
              "      <td>0</td>\n",
              "      <td>0</td>\n",
              "      <td>0</td>\n",
              "      <td>0</td>\n",
              "      <td>0</td>\n",
              "      <td>1</td>\n",
              "    </tr>\n",
              "    <tr>\n",
              "      <th>24</th>\n",
              "      <td>0</td>\n",
              "      <td>0</td>\n",
              "      <td>61</td>\n",
              "      <td>22.3</td>\n",
              "      <td>118</td>\n",
              "      <td>36</td>\n",
              "      <td>0</td>\n",
              "      <td>0</td>\n",
              "      <td>0</td>\n",
              "      <td>0</td>\n",
              "      <td>0</td>\n",
              "      <td>0</td>\n",
              "      <td>0</td>\n",
              "      <td>0</td>\n",
              "      <td>0</td>\n",
              "      <td>0</td>\n",
              "      <td>0</td>\n",
              "      <td>0</td>\n",
              "      <td>1</td>\n",
              "    </tr>\n",
              "    <tr>\n",
              "      <th>24</th>\n",
              "      <td>0</td>\n",
              "      <td>0</td>\n",
              "      <td>63</td>\n",
              "      <td>25.7</td>\n",
              "      <td>145</td>\n",
              "      <td>19</td>\n",
              "      <td>0</td>\n",
              "      <td>1</td>\n",
              "      <td>0</td>\n",
              "      <td>0</td>\n",
              "      <td>0</td>\n",
              "      <td>0</td>\n",
              "      <td>0</td>\n",
              "      <td>0</td>\n",
              "      <td>0</td>\n",
              "      <td>0</td>\n",
              "      <td>0</td>\n",
              "      <td>0</td>\n",
              "      <td>2</td>\n",
              "    </tr>\n",
              "    <tr>\n",
              "      <th>...</th>\n",
              "      <td>...</td>\n",
              "      <td>...</td>\n",
              "      <td>...</td>\n",
              "      <td>...</td>\n",
              "      <td>...</td>\n",
              "      <td>...</td>\n",
              "      <td>...</td>\n",
              "      <td>...</td>\n",
              "      <td>...</td>\n",
              "      <td>...</td>\n",
              "      <td>...</td>\n",
              "      <td>...</td>\n",
              "      <td>...</td>\n",
              "      <td>...</td>\n",
              "      <td>...</td>\n",
              "      <td>...</td>\n",
              "      <td>...</td>\n",
              "      <td>...</td>\n",
              "      <td>...</td>\n",
              "    </tr>\n",
              "    <tr>\n",
              "      <th>26</th>\n",
              "      <td>0</td>\n",
              "      <td>0</td>\n",
              "      <td>62</td>\n",
              "      <td>35.7</td>\n",
              "      <td>195</td>\n",
              "      <td>0</td>\n",
              "      <td>0</td>\n",
              "      <td>0</td>\n",
              "      <td>0</td>\n",
              "      <td>0</td>\n",
              "      <td>0</td>\n",
              "      <td>0</td>\n",
              "      <td>1</td>\n",
              "      <td>0</td>\n",
              "      <td>0</td>\n",
              "      <td>0</td>\n",
              "      <td>0</td>\n",
              "      <td>0</td>\n",
              "      <td>2</td>\n",
              "    </tr>\n",
              "    <tr>\n",
              "      <th>25</th>\n",
              "      <td>0</td>\n",
              "      <td>0</td>\n",
              "      <td>62</td>\n",
              "      <td>29.3</td>\n",
              "      <td>160</td>\n",
              "      <td>0</td>\n",
              "      <td>0</td>\n",
              "      <td>0</td>\n",
              "      <td>0</td>\n",
              "      <td>0</td>\n",
              "      <td>0</td>\n",
              "      <td>0</td>\n",
              "      <td>0</td>\n",
              "      <td>0</td>\n",
              "      <td>0</td>\n",
              "      <td>0</td>\n",
              "      <td>0</td>\n",
              "      <td>0</td>\n",
              "      <td>2</td>\n",
              "    </tr>\n",
              "    <tr>\n",
              "      <th>27</th>\n",
              "      <td>10</td>\n",
              "      <td>1</td>\n",
              "      <td>67</td>\n",
              "      <td>30.4</td>\n",
              "      <td>194</td>\n",
              "      <td>0</td>\n",
              "      <td>0</td>\n",
              "      <td>0</td>\n",
              "      <td>0</td>\n",
              "      <td>0</td>\n",
              "      <td>0</td>\n",
              "      <td>0</td>\n",
              "      <td>0</td>\n",
              "      <td>0</td>\n",
              "      <td>0</td>\n",
              "      <td>0</td>\n",
              "      <td>0</td>\n",
              "      <td>0</td>\n",
              "      <td>2</td>\n",
              "    </tr>\n",
              "    <tr>\n",
              "      <th>24</th>\n",
              "      <td>0</td>\n",
              "      <td>0</td>\n",
              "      <td>67</td>\n",
              "      <td>25.1</td>\n",
              "      <td>160</td>\n",
              "      <td>0</td>\n",
              "      <td>0</td>\n",
              "      <td>0</td>\n",
              "      <td>0</td>\n",
              "      <td>0</td>\n",
              "      <td>0</td>\n",
              "      <td>0</td>\n",
              "      <td>0</td>\n",
              "      <td>0</td>\n",
              "      <td>0</td>\n",
              "      <td>0</td>\n",
              "      <td>0</td>\n",
              "      <td>0</td>\n",
              "      <td>2</td>\n",
              "    </tr>\n",
              "    <tr>\n",
              "      <th>20</th>\n",
              "      <td>0</td>\n",
              "      <td>0</td>\n",
              "      <td>71</td>\n",
              "      <td>34.2</td>\n",
              "      <td>245</td>\n",
              "      <td>0</td>\n",
              "      <td>0</td>\n",
              "      <td>0</td>\n",
              "      <td>0</td>\n",
              "      <td>0</td>\n",
              "      <td>0</td>\n",
              "      <td>0</td>\n",
              "      <td>0</td>\n",
              "      <td>1</td>\n",
              "      <td>0</td>\n",
              "      <td>0</td>\n",
              "      <td>0</td>\n",
              "      <td>0</td>\n",
              "      <td>2</td>\n",
              "    </tr>\n",
              "  </tbody>\n",
              "</table>\n",
              "<p>1017274 rows × 19 columns</p>\n",
              "</div>"
            ],
            "text/plain": [
              "       cig_0  cig_rec  m_ht_in   bmi  ...  ip_chlam  ip_hepatb  ip_hepatc  gestrec3\n",
              "mager                                 ...                                          \n",
              "39         0        0       66  21.8  ...         0          0          0         1\n",
              "39         0        0       66  21.8  ...         0          0          0         1\n",
              "24         0        0       61  22.3  ...         0          0          0         1\n",
              "24         0        0       61  22.3  ...         0          0          0         1\n",
              "24         0        0       63  25.7  ...         0          0          0         2\n",
              "...      ...      ...      ...   ...  ...       ...        ...        ...       ...\n",
              "26         0        0       62  35.7  ...         0          0          0         2\n",
              "25         0        0       62  29.3  ...         0          0          0         2\n",
              "27        10        1       67  30.4  ...         0          0          0         2\n",
              "24         0        0       67  25.1  ...         0          0          0         2\n",
              "20         0        0       71  34.2  ...         0          0          0         2\n",
              "\n",
              "[1017274 rows x 19 columns]"
            ]
          },
          "metadata": {
            "tags": []
          },
          "execution_count": 112
        }
      ]
    },
    {
      "cell_type": "markdown",
      "metadata": {
        "id": "teqIrEDbxZ1b"
      },
      "source": [
        "Variables in data frame:\n",
        " - cig_0 = number of cigarettes smoked before pregnancy\n",
        " - cig_rec = cigarettes smoked (Y/N)\n",
        " - m_ht_in = mother's height in inches\n",
        " - bmi  = body mass index\n",
        " - pwgt_r = pre-pregnancy weight\n",
        " - wtgain = weight gain\n",
        " - rf_pdiab = pre-pregancy diabetes (Y/N)\n",
        " - rf_gdiab = gestational diabetes (Y/N)\n",
        " - rf_phype = pre-pregnancy hypertension (Y/N)\n",
        " - rf_ghype = gestational hypertension (Y/N)\n",
        " - rf_ehype = hypertension eclampsia\n",
        " - rf_ppterm = previous preterm birth\n",
        " - rf_cesarn = number of previous cesareans\n",
        " - ip_gon = gonorrhea (Y/N)\n",
        " - ip_syph = syphillis (Y/N)\n",
        " - ip_chlam = Chlamydia (Y/N)\n",
        " - ip_hepatb = Hep B (Y/N)\n",
        " - ip_hepatc = Hep C (Y/N)\n",
        " - gestrec3 = 1) Under 37 weeks, 2) > 37 weeks \n"
      ]
    },
    {
      "cell_type": "code",
      "metadata": {
        "colab": {
          "base_uri": "https://localhost:8080/"
        },
        "id": "xQKbvbWLj6QI",
        "outputId": "7a5d43b0-c7f4-47f9-e516-2227f966a949"
      },
      "source": [
        "from google.colab import drive\n",
        "drive.mount('/content/drive')"
      ],
      "execution_count": null,
      "outputs": [
        {
          "output_type": "stream",
          "text": [
            "Drive already mounted at /content/drive; to attempt to forcibly remount, call drive.mount(\"/content/drive\", force_remount=True).\n"
          ],
          "name": "stdout"
        }
      ]
    },
    {
      "cell_type": "code",
      "metadata": {
        "colab": {
          "base_uri": "https://localhost:8080/",
          "height": 296
        },
        "id": "kFa_XqExR1fM",
        "outputId": "8cab589d-dc1f-4d74-de3a-1fc8cd715ecd"
      },
      "source": [
        "# Count number of preterm (<37 weeks) and term (>37 weeks) births\n",
        "sns.countplot(x='gestrec3', data=df)"
      ],
      "execution_count": null,
      "outputs": [
        {
          "output_type": "execute_result",
          "data": {
            "text/plain": [
              "<matplotlib.axes._subplots.AxesSubplot at 0x7f0c407fa710>"
            ]
          },
          "metadata": {
            "tags": []
          },
          "execution_count": 53
        },
        {
          "output_type": "display_data",
          "data": {
            "image/png": "[encoded data removed]",
            "text/plain": [
              "<Figure size 432x288 with 1 Axes>"
            ]
          },
          "metadata": {
            "tags": [],
            "needs_background": "light"
          }
        }
      ]
    },
    {
      "cell_type": "code",
      "metadata": {
        "colab": {
          "base_uri": "https://localhost:8080/"
        },
        "id": "2n7jUBc2TpJL",
        "outputId": "95a01a69-5905-4840-a74c-0c59f6b1863c"
      },
      "source": [
        "#Print number of individuals in each group\n",
        "print(\"Observations in Class 1: \",sum(df['gestrec3']==1))\n",
        "print(\"Observations in Class 2: \",sum(df['gestrec3']==2))"
      ],
      "execution_count": null,
      "outputs": [
        {
          "output_type": "stream",
          "text": [
            "Observations in Class 1:  106132\n",
            "Observations in Class 2:  911142\n"
          ],
          "name": "stdout"
        }
      ]
    },
    {
      "cell_type": "markdown",
      "metadata": {
        "id": "gRYrdq4sT55s"
      },
      "source": [
        "Define label (gestrec3) and features for model "
      ]
    },
    {
      "cell_type": "code",
      "metadata": {
        "id": "tHyXQ8yLUMbB"
      },
      "source": [
        "X = df.drop('gestrec3' , axis = 1)\n",
        "y = df['gestrec3']"
      ],
      "execution_count": null,
      "outputs": []
    },
    {
      "cell_type": "code",
      "metadata": {
        "colab": {
          "base_uri": "https://localhost:8080/"
        },
        "id": "R-hbF8RIUbfx",
        "outputId": "854d8085-a6ff-4294-e60e-cb88cc8faf6e"
      },
      "source": [
        "#Count observations\n",
        "counter = Counter(y)\n",
        "print (counter)"
      ],
      "execution_count": null,
      "outputs": [
        {
          "output_type": "stream",
          "text": [
            "Counter({2: 911142, 1: 106132})\n"
          ],
          "name": "stdout"
        }
      ]
    },
    {
      "cell_type": "markdown",
      "metadata": {
        "id": "wucZcHvJTxin"
      },
      "source": [
        "Since data is unbalanced - Use an undersampling method to balance out the two groups"
      ]
    },
    {
      "cell_type": "code",
      "metadata": {
        "colab": {
          "base_uri": "https://localhost:8080/"
        },
        "id": "CteAbwKiTwvY",
        "outputId": "b90e00bd-fc85-48df-c509-e595747a29f7"
      },
      "source": [
        "# define dataset\n",
        "X, y = make_classification(n_samples=1017274,\n",
        "\t weights=[0.89567019309], flip_y=0)\n",
        "# summarize class distribution\n",
        "print(Counter(y))\n",
        "# define undersample strategy\n",
        "undersample = RandomUnderSampler(sampling_strategy='majority')\n",
        "# fit and apply the transform\n",
        "X, y = undersample.fit_resample(X, y)\n",
        "# summarize class distribution\n",
        "counter = Counter(y)\n",
        "print(Counter(y))"
      ],
      "execution_count": null,
      "outputs": [
        {
          "output_type": "stream",
          "text": [
            "Counter({0: 911143, 1: 106131})\n",
            "Counter({0: 106131, 1: 106131})\n"
          ],
          "name": "stdout"
        },
        {
          "output_type": "stream",
          "text": [
            "/usr/local/lib/python3.7/dist-packages/sklearn/utils/deprecation.py:87: FutureWarning: Function safe_indexing is deprecated; safe_indexing is deprecated in version 0.22 and will be removed in version 0.24.\n",
            "  warnings.warn(msg, category=FutureWarning)\n"
          ],
          "name": "stderr"
        }
      ]
    },
    {
      "cell_type": "markdown",
      "metadata": {
        "id": "w8cuvvlxUzHD"
      },
      "source": [
        "Visualize balanced data"
      ]
    },
    {
      "cell_type": "code",
      "metadata": {
        "colab": {
          "base_uri": "https://localhost:8080/",
          "height": 265
        },
        "id": "l4_PFj85Uxup",
        "outputId": "34dc3ead-7f56-4922-fe0b-0f106182e952"
      },
      "source": [
        "# scatter plot of examples by class label\n",
        "for label, _ in counter.items():\n",
        "\trow_ix = where(y == label)[0]\n",
        "\tpyplot.scatter(X[row_ix, 0], X[row_ix, 1], label=str(label))\n",
        "pyplot.legend()\n",
        "pyplot.show()"
      ],
      "execution_count": null,
      "outputs": [
        {
          "output_type": "display_data",
          "data": {
            "image/png": "[encoded data removed]",
            "text/plain": [
              "<Figure size 432x288 with 1 Axes>"
            ]
          },
          "metadata": {
            "tags": [],
            "needs_background": "light"
          }
        }
      ]
    },
    {
      "cell_type": "markdown",
      "metadata": {
        "id": "SxnwZlpfU4lj"
      },
      "source": [
        "Define test and training data. Use 90% of the data to train the model, and 10% to test the model"
      ]
    },
    {
      "cell_type": "code",
      "metadata": {
        "id": "amfQ0B1IU_jq"
      },
      "source": [
        "x_train, x_test, y_train, y_test = sklearn.model_selection.train_test_split(X, y, test_size = 0.1)"
      ],
      "execution_count": null,
      "outputs": []
    },
    {
      "cell_type": "code",
      "metadata": {
        "colab": {
          "base_uri": "https://localhost:8080/"
        },
        "id": "NqPLx9kqsbpe",
        "outputId": "c3a204cf-b808-4d48-fd0a-977dcc1dd353"
      },
      "source": [
        "#print shape \n",
        "print('Shape of X_train: ' , x_train.shape)\n",
        "print('\\nShape of Y_train: ' , y_train.shape)\n",
        "print('\\nShape of X_test: ' , x_test.shape)\n",
        "print('\\nShape of Y_test: ' , y_test.shape)"
      ],
      "execution_count": null,
      "outputs": [
        {
          "output_type": "stream",
          "text": [
            "Shape of X_train:  (191035, 20)\n",
            "\n",
            "Shape of Y_train:  (191035,)\n",
            "\n",
            "Shape of X_test:  (21227, 20)\n",
            "\n",
            "Shape of Y_test:  (21227,)\n"
          ],
          "name": "stdout"
        }
      ]
    },
    {
      "cell_type": "markdown",
      "metadata": {
        "id": "jvDo2Aszs_s4"
      },
      "source": [
        "There are 191035 training and 21227 test samples after cleaning the data and undersampling. There are 20 different features in the data"
      ]
    },
    {
      "cell_type": "markdown",
      "metadata": {
        "id": "so0Ph6tJVEIS"
      },
      "source": [
        "Model #1: Logistic Regression\n"
      ]
    },
    {
      "cell_type": "code",
      "metadata": {
        "colab": {
          "base_uri": "https://localhost:8080/"
        },
        "id": "bifzU16bVHhr",
        "outputId": "6d91c46c-d064-4980-df32-5254027f5788"
      },
      "source": [
        "def Logistic_Regression(X , y):\n",
        "    \n",
        "    model = LogisticRegression(max_iter = 100000)\n",
        "    model = model.fit(X , y.ravel())\n",
        "    return model\n",
        "\n",
        "log_model = Logistic_Regression(x_train , y_train)\n",
        "\n",
        "def Results(model , X , y):    \n",
        "    \n",
        "    acc = model.score(X , y)\n",
        "    err =  1 - model.score(X , y)\n",
        "    pred = model.predict(X)\n",
        "    return acc , err , pred\n",
        "\n",
        "log_acc_tr , log_err_tr , log_pred_tr = Results(log_model , x_train , y_train)\n",
        "log_acc_te , log_err_te , log_pred_te = Results(log_model , x_test , y_test)\n",
        "\n",
        "print(\"Accuracy on training data : \" , log_acc_tr)\n",
        "print(\"\\nClassification error on training data : \" , log_err_tr)\n",
        "print(\"\\nAccuracy on testing data : \" , log_acc_te)\n",
        "print(\"\\nClassification error on testing data : \" , log_err_te)"
      ],
      "execution_count": null,
      "outputs": [
        {
          "output_type": "stream",
          "text": [
            "Accuracy on training data :  0.9574004763525008\n",
            "\n",
            "Classification error on training data :  0.04259952364749919\n",
            "\n",
            "Accuracy on testing data :  0.9576953879493099\n",
            "\n",
            "Classification error on testing data :  0.04230461205069014\n"
          ],
          "name": "stdout"
        }
      ]
    },
    {
      "cell_type": "markdown",
      "metadata": {
        "id": "Rc1doLJ0hIwE"
      },
      "source": [
        "Save logistic regression model"
      ]
    },
    {
      "cell_type": "code",
      "metadata": {
        "id": "7NNdjzarhLPW"
      },
      "source": [
        "filename = 'Model1_LogisticRegression.sav'\n",
        "pickle.dump(log_model, open(filename, 'wb'))"
      ],
      "execution_count": null,
      "outputs": []
    },
    {
      "cell_type": "markdown",
      "metadata": {
        "id": "nmwYqIuBalRa"
      },
      "source": [
        "Open saved logistic regression model"
      ]
    },
    {
      "cell_type": "code",
      "metadata": {
        "colab": {
          "base_uri": "https://localhost:8080/"
        },
        "id": "gGk6Pq22heXH",
        "outputId": "fb6e21d6-f27f-4eaf-960e-2ebe99c474ea"
      },
      "source": [
        "# load the model from disk\n",
        "loaded_model = pickle.load(open(filename, 'rb'))\n",
        "result = loaded_model.score(x_test, y_test)\n",
        "print(result)"
      ],
      "execution_count": null,
      "outputs": [
        {
          "output_type": "stream",
          "text": [
            "0.9576953879493099\n"
          ],
          "name": "stdout"
        }
      ]
    },
    {
      "cell_type": "markdown",
      "metadata": {
        "id": "81xu3YCexOji"
      },
      "source": [
        "Model #2 XGBoost\n"
      ]
    },
    {
      "cell_type": "code",
      "metadata": {
        "id": "X_KxSb5Q7l4g"
      },
      "source": [
        "from xgboost import XGBClassifier\n",
        "from sklearn.metrics import accuracy_score\n",
        "from sklearn.metrics import confusion_matrix\n",
        "from matplotlib import pyplot as plt"
      ],
      "execution_count": null,
      "outputs": []
    },
    {
      "cell_type": "code",
      "metadata": {
        "id": "7NlYaQRB8nwf"
      },
      "source": [
        "x_train, x_test, y_train, y_test = sklearn.model_selection.train_test_split(X, y, test_size = 0.1)"
      ],
      "execution_count": null,
      "outputs": []
    },
    {
      "cell_type": "code",
      "metadata": {
        "id": "uOB25iqqCHHD"
      },
      "source": [
        "def xgboost_model(x_train , y_train , x_test , y_test):\n",
        "    model = XGBClassifier()\n",
        "    model.fit(x_train , y_train)\n",
        "    \n",
        "    y_pred_test = model.predict(x_test)\n",
        "    predictions_test = [round(value) for value in y_pred_test]\n",
        "    \n",
        "    y_pred_train = model.predict(x_train)\n",
        "    predictions_train = [round(value) for value in y_pred_train]\n",
        "    \n",
        "    accuracy_test = accuracy_score(y_test , predictions_test)\n",
        "    accuracy_train = accuracy_score(y_train , predictions_train)\n",
        "    \n",
        "    return accuracy_train , accuracy_test\n"
      ],
      "execution_count": null,
      "outputs": []
    },
    {
      "cell_type": "code",
      "metadata": {
        "id": "ELUodr4a8tJq"
      },
      "source": [
        "xg_acc_train , xg_acc_test = xgboost_model(x_train , y_train , x_test , y_test)"
      ],
      "execution_count": null,
      "outputs": []
    },
    {
      "cell_type": "code",
      "metadata": {
        "colab": {
          "base_uri": "https://localhost:8080/"
        },
        "id": "TOmxFsej8zxG",
        "outputId": "bf537a9d-166a-4ef8-88cf-ddee5319416f"
      },
      "source": [
        "print(\"Classification Accuracy on training data is : \" , xg_acc_train,\n",
        "\"=>\" , xg_acc_train*100 , \"%\")\n",
        "\n",
        "print(\"\\nClassification Accuracy on testing data is : \" , xg_acc_test ,\n",
        "\"=>\" , xg_acc_test*100 , \"%\")"
      ],
      "execution_count": null,
      "outputs": [
        {
          "output_type": "stream",
          "text": [
            "Classification Accuracy on training data is :  0.9683670531577984 => 96.83670531577984 %\n",
            "\n",
            "Classification Accuracy on testing data is :  0.9657511659678711 => 96.57511659678711 %\n"
          ],
          "name": "stdout"
        }
      ]
    }
  ]
}